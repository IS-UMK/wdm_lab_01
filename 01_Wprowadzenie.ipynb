{
 "cells": [
  {
   "cell_type": "markdown",
   "metadata": {
    "heading_collapsed": true,
    "slideshow": {
     "slide_type": "slide"
    }
   },
   "source": [
    "# Python i notatnik Jupyter\n",
    "\n",
    "* uruchamianie i obsługa notatnika\n",
    "* komórki kodu Python i komórki z notatkami Markdown\n",
    "* podstawy języka Python: zmienne, typy, wczytywanie, wypisywanie wartosci, instrukcje sterujące, podstawowe typy złożne, funkcje \n",
    "***\n",
    "\n"
   ]
  },
  {
   "cell_type": "markdown",
   "metadata": {
    "hidden": true,
    "slideshow": {
     "slide_type": "slide"
    }
   },
   "source": [
    "## Notatnik Jupyter - przydatne skróty klawiszowe\n",
    "\n",
    "### Tryby pracy:\n",
    "\n",
    "* `Enter` tryb **edycji komórki**. Edycja kodu lub tekstu Markdown.\n",
    "* `Ecs`  tryb **komend** (wyjście z trybu edycji). Daje możliwość zaznaczania i manipulacji na komórkach, np. usuwanie, przemieszczanie, tworzenie nowych komórek.\n",
    "\n",
    "### Uruchamianie komórek\n",
    "\n",
    "- `Ctrl` + `Enter` uruchamia komórkę\n",
    "- `Shift` + `Enter` uruchamia komórkę i przechodzi do nastepnej"
   ]
  },
  {
   "cell_type": "markdown",
   "metadata": {
    "hidden": true,
    "slideshow": {
     "slide_type": "slide"
    }
   },
   "source": [
    "### **Ćwiczenie**\n",
    "\n",
    "Jaki jest wynik poniższej operacji?"
   ]
  },
  {
   "cell_type": "code",
   "execution_count": null,
   "metadata": {
    "ExecuteTime": {
     "end_time": "2022-03-07T13:40:32.718429Z",
     "start_time": "2022-03-07T13:40:32.714190Z"
    },
    "hidden": true,
    "scrolled": true
   },
   "outputs": [],
   "source": [
    "2 + 2"
   ]
  },
  {
   "cell_type": "code",
   "execution_count": null,
   "metadata": {
    "ExecuteTime": {
     "end_time": "2022-03-07T13:40:29.510420Z",
     "start_time": "2022-03-07T13:40:29.506117Z"
    },
    "hidden": true,
    "scrolled": true
   },
   "outputs": [],
   "source": [
    "print('Witaj Świecie')"
   ]
  },
  {
   "cell_type": "markdown",
   "metadata": {
    "hidden": true,
    "slideshow": {
     "slide_type": "slide"
    }
   },
   "source": [
    "### Skróty klawiszowe\n",
    "\n",
    "\n",
    "#### W trybie komend\n",
    "\n",
    "- `A` wstawia nową (pustą) komórkę powyżej\n",
    "- `B` wstawia nową (pustą) komórkę poniżej\n",
    "- `M` zamienia typ komórki na komórkę Markdown\n",
    "- `Y` zamienia typ komórki na komórkę z kodem\n",
    "- `D` `D` usuwa aktualną komórkę\n",
    "\n",
    "\n"
   ]
  },
  {
   "cell_type": "markdown",
   "metadata": {
    "hidden": true,
    "slideshow": {
     "slide_type": "slide"
    }
   },
   "source": [
    "## Pomoc\n",
    "\n",
    "- `Shift` + `Tab` dokumentacja funkcji wskazanej kursorem\n",
    "- `Tab` dopełnianie składni"
   ]
  },
  {
   "cell_type": "code",
   "execution_count": null,
   "metadata": {
    "hidden": true
   },
   "outputs": [],
   "source": [
    "print?"
   ]
  },
  {
   "cell_type": "code",
   "execution_count": null,
   "metadata": {
    "hidden": true
   },
   "outputs": [],
   "source": [
    "help(print)"
   ]
  },
  {
   "cell_type": "markdown",
   "metadata": {
    "heading_collapsed": true,
    "hidden": true,
    "slideshow": {
     "slide_type": "slide"
    }
   },
   "source": [
    "## Przydatne adresy\n",
    "- Project website: <http://jupyter.org>\n",
    "- Ściąga <https://www.edureka.co/blog/wp-content/uploads/2018/10/Jupyter_Notebook_CheatSheet_Edureka.pdf>\n",
    "- Dokumentacja: <https://jupyter.readthedocs.io/en/latest/index.html>\n",
    "- Jupyter tutorial: <https://www.datacamp.com/community/tutorials/tutorial-jupyter-notebook#gs.FvQnWPo>"
   ]
  },
  {
   "cell_type": "markdown",
   "metadata": {
    "slideshow": {
     "slide_type": "slide"
    }
   },
   "source": [
    "# Składnia Markdown \n",
    "\n",
    "\n",
    "## Nagłowek 2 \n",
    "### Nagłowek 3 \n",
    "Normalny tekst, **pogrubiony**, *kursywa*, ``stałej szerokości``, wzory matematyczne $\\LaTeX$ $\\frac{\\int^\\infty_0{x}dx}{2}$ \n",
    "\n",
    "* listy\n",
    "* wypunktowane\n",
    "\n",
    "1. listy \n",
    "2. numerowane\n",
    "\n",
    "| Nagłowek  | tabeli  | kolumna 3 |\n",
    "|-----------|:-------:|----------:|\n",
    "| po lewej  | środek  | po prawej |\n",
    "| A         | B       | C         |\n",
    "\n",
    "\n",
    "Linki:  [Ściąga z Markdown](https://github.com/adam-p/markdown-here/wiki/Markdown-Cheatsheet)\n",
    "\n",
    "![Python logo](https://www.python.org/static/community_logos/python-logo-master-v3-TM.png)\n",
    "\n",
    "\n"
   ]
  },
  {
   "cell_type": "markdown",
   "metadata": {
    "slideshow": {
     "slide_type": "slide"
    }
   },
   "source": [
    "Podstawy Pythona\n",
    "==============="
   ]
  },
  {
   "cell_type": "code",
   "execution_count": null,
   "metadata": {
    "scrolled": true
   },
   "outputs": [],
   "source": [
    "print('Witaj świecie')"
   ]
  },
  {
   "cell_type": "markdown",
   "metadata": {
    "slideshow": {
     "slide_type": "slide"
    }
   },
   "source": [
    "## Zmienne i typy\n",
    "\n",
    "Typy danych w Python: https://www.w3schools.com/python/python_datatypes.asp"
   ]
  },
  {
   "cell_type": "code",
   "execution_count": null,
   "metadata": {
    "ExecuteTime": {
     "end_time": "2022-03-07T16:22:23.162530Z",
     "start_time": "2022-03-07T16:22:23.153490Z"
    },
    "scrolled": true
   },
   "outputs": [],
   "source": [
    "a = 42      # int, liczby całkowite\n",
    "\n",
    "b = True   # typ Boolowski True/False\n",
    "\n",
    "c = 3.14    # float, liczby rzeczywiste \n",
    "\n",
    "d = int(c)  # rzutowanie typu\n",
    "\n",
    "x=d\n",
    "print(x, type(x))"
   ]
  },
  {
   "cell_type": "markdown",
   "metadata": {
    "slideshow": {
     "slide_type": "slide"
    }
   },
   "source": [
    "## Napisy (typ string)"
   ]
  },
  {
   "cell_type": "code",
   "execution_count": null,
   "metadata": {
    "ExecuteTime": {
     "end_time": "2022-03-07T15:19:02.340266Z",
     "start_time": "2022-03-07T15:19:02.331985Z"
    },
    "scrolled": true,
    "slideshow": {
     "slide_type": "-"
    }
   },
   "outputs": [],
   "source": [
    "s = 'Hello'\n",
    "print(s, type(s))\n",
    "\n",
    "# operacje na zmienneych \n",
    "x = x + 1\n",
    "print('x=', x)\n",
    "\n",
    "# łączenie napisów\n",
    "s = s + ' world ' + str(x) \n",
    "print('Połaczony napis: ', s)\n",
    "\n",
    "print('Długość napisu: ', len(s))"
   ]
  },
  {
   "cell_type": "code",
   "execution_count": null,
   "metadata": {
    "ExecuteTime": {
     "end_time": "2022-03-07T15:21:47.326268Z",
     "start_time": "2022-03-07T15:21:47.320948Z"
    },
    "scrolled": true,
    "slideshow": {
     "slide_type": "slide"
    }
   },
   "outputs": [],
   "source": [
    "# lista pól i metod obiektu string\n",
    "\n",
    "s = 'Hello'\n",
    "dir(s)"
   ]
  },
  {
   "cell_type": "code",
   "execution_count": null,
   "metadata": {
    "ExecuteTime": {
     "end_time": "2022-03-07T15:24:13.291470Z",
     "start_time": "2022-03-07T15:24:13.288192Z"
    },
    "slideshow": {
     "slide_type": "slide"
    }
   },
   "outputs": [],
   "source": [
    "# dokunetacja (Shift+Tab)\n",
    "help(s.count)"
   ]
  },
  {
   "cell_type": "code",
   "execution_count": null,
   "metadata": {
    "ExecuteTime": {
     "end_time": "2022-03-07T15:25:03.232502Z",
     "start_time": "2022-03-07T15:25:03.225866Z"
    },
    "scrolled": true
   },
   "outputs": [],
   "source": [
    "s.count?"
   ]
  },
  {
   "cell_type": "code",
   "execution_count": null,
   "metadata": {
    "ExecuteTime": {
     "end_time": "2022-03-07T15:25:12.805772Z",
     "start_time": "2022-03-07T15:25:12.802014Z"
    },
    "scrolled": true,
    "slideshow": {
     "slide_type": "-"
    }
   },
   "outputs": [],
   "source": [
    "print(s)\n",
    "print(s.count('l'))"
   ]
  },
  {
   "cell_type": "markdown",
   "metadata": {
    "slideshow": {
     "slide_type": "slide"
    }
   },
   "source": [
    "## Operatory arytmetyczne\n",
    "\n",
    "Lista operatorów: https://www.w3schools.com/python/python_operators.asp"
   ]
  },
  {
   "cell_type": "code",
   "execution_count": null,
   "metadata": {
    "ExecuteTime": {
     "end_time": "2022-03-07T15:25:44.562097Z",
     "start_time": "2022-03-07T15:25:44.546646Z"
    }
   },
   "outputs": [],
   "source": [
    "# operatory arytmetyczne +, -, *, /, % takie jak w języku C\n",
    "x = 3                     # przypisanie wartości\n",
    "print(x)"
   ]
  },
  {
   "cell_type": "code",
   "execution_count": null,
   "metadata": {
    "ExecuteTime": {
     "end_time": "2022-03-07T15:25:44.562097Z",
     "start_time": "2022-03-07T15:25:44.546646Z"
    }
   },
   "outputs": [],
   "source": [
    "x = x + 1                  # dodawanie\n",
    "print(x)"
   ]
  },
  {
   "cell_type": "code",
   "execution_count": null,
   "metadata": {
    "ExecuteTime": {
     "end_time": "2022-03-07T15:25:44.562097Z",
     "start_time": "2022-03-07T15:25:44.546646Z"
    }
   },
   "outputs": [],
   "source": [
    "x = 1 / 3                 # dzielenie \n",
    "print(x)"
   ]
  },
  {
   "cell_type": "code",
   "execution_count": null,
   "metadata": {
    "ExecuteTime": {
     "end_time": "2022-03-07T15:25:44.562097Z",
     "start_time": "2022-03-07T15:25:44.546646Z"
    },
    "slideshow": {
     "slide_type": "slide"
    }
   },
   "outputs": [],
   "source": [
    "x = 7 // 3                 # dzielenie całkowite  (bez reszty)\n",
    "print(x)"
   ]
  },
  {
   "cell_type": "code",
   "execution_count": null,
   "metadata": {
    "ExecuteTime": {
     "end_time": "2022-03-07T15:25:44.562097Z",
     "start_time": "2022-03-07T15:25:44.546646Z"
    }
   },
   "outputs": [],
   "source": [
    "x = 7 % 3                  # modulo  (reszta z dzielenia)\n",
    "print(x)"
   ]
  },
  {
   "cell_type": "code",
   "execution_count": null,
   "metadata": {
    "ExecuteTime": {
     "end_time": "2022-03-07T15:25:44.562097Z",
     "start_time": "2022-03-07T15:25:44.546646Z"
    },
    "scrolled": true
   },
   "outputs": [],
   "source": [
    "x = 2 ** 10               # potęgowanie\n",
    "print(x)"
   ]
  },
  {
   "cell_type": "markdown",
   "metadata": {
    "slideshow": {
     "slide_type": "slide"
    }
   },
   "source": [
    "***\n",
    "\n",
    "### **Ćwiczenie**\n",
    "\n",
    "Ile wynosi reszta z dzielenia 123456 przez 13 ?"
   ]
  },
  {
   "cell_type": "code",
   "execution_count": null,
   "metadata": {
    "scrolled": true
   },
   "outputs": [],
   "source": []
  },
  {
   "cell_type": "markdown",
   "metadata": {
    "slideshow": {
     "slide_type": "slide"
    }
   },
   "source": [
    "## Wyświetlanie wartości. Funkcja print()"
   ]
  },
  {
   "cell_type": "code",
   "execution_count": null,
   "metadata": {
    "ExecuteTime": {
     "end_time": "2022-03-07T15:31:05.424371Z",
     "start_time": "2022-03-07T15:31:05.416649Z"
    }
   },
   "outputs": [],
   "source": [
    "# wyświetlanie liczb\n",
    "x = 3.14\n",
    "k = 42\n",
    "print('liczba x=' + str(x) + ', k=' + str(k))"
   ]
  },
  {
   "cell_type": "markdown",
   "metadata": {},
   "source": [
    "f-string dla python >= 3.6"
   ]
  },
  {
   "cell_type": "code",
   "execution_count": null,
   "metadata": {
    "ExecuteTime": {
     "end_time": "2022-03-07T15:34:44.485417Z",
     "start_time": "2022-03-07T15:34:44.481858Z"
    },
    "scrolled": true
   },
   "outputs": [],
   "source": [
    "print(f'liczba x={x},  k={k}')    "
   ]
  },
  {
   "cell_type": "code",
   "execution_count": null,
   "metadata": {
    "slideshow": {
     "slide_type": "slide"
    }
   },
   "outputs": [],
   "source": [
    "# formatowanie wartości za pomoca specyfikatorów printf() z języka C\n",
    "print('liczba k=%d' % k)\n",
    "\n",
    "print('liczba x=%.2f,  k=%d' % (x, k))    # (x, k) to krotka (ang. tuple)\n",
    "\n",
    "print('42 dziesietnie  to %d' % 42)\n",
    "print('42 osemkowo     to %o' % 42)\n",
    "print('42 szesnastkowo to %x' % 42)\n",
    "print('42 to znak         %c' % 42)"
   ]
  },
  {
   "cell_type": "markdown",
   "metadata": {
    "slideshow": {
     "slide_type": "slide"
    }
   },
   "source": [
    "***\n",
    "## Operatory relacji i operatory logiczne"
   ]
  },
  {
   "cell_type": "code",
   "execution_count": null,
   "metadata": {
    "ExecuteTime": {
     "end_time": "2022-03-07T15:35:52.214522Z",
     "start_time": "2022-03-07T15:35:52.210008Z"
    },
    "scrolled": false
   },
   "outputs": [],
   "source": [
    "# operatory relacji: ==, !=, <, >, <=, >=\n",
    "\n",
    "x = 42\n",
    "print(x == 42)        # czy x równe 42?        wypisze True\n",
    "print(x != 42)        # czy x rózne od 42?     wypisze False\n",
    "print(x == 13)        # czy x równe 13?        wypisze False\n",
    "print(x < 100)        # czy x mniejsze od 100? wypisze True"
   ]
  },
  {
   "cell_type": "code",
   "execution_count": null,
   "metadata": {
    "ExecuteTime": {
     "end_time": "2022-03-07T15:36:11.754293Z",
     "start_time": "2022-03-07T15:36:11.747014Z"
    },
    "scrolled": true
   },
   "outputs": [],
   "source": [
    "# operatory logiczne: not, and, or (nie, i, lub)\n",
    "\n",
    "x = 42\n",
    "\n",
    "print(x < 100 and x > 40)   # czy x mniejsze od 100 i większe od 14? wypisze True\n",
    "print(x != 42 or True )     # czy x różne od 42 lub prawda?          wypisze True\n",
    "print(not False)            # nie fałsz,                             wypisze True\n",
    "print(not 2 > 100)          "
   ]
  },
  {
   "cell_type": "markdown",
   "metadata": {
    "slideshow": {
     "slide_type": "slide"
    }
   },
   "source": [
    "## Instrukcja warunkowa if"
   ]
  },
  {
   "cell_type": "code",
   "execution_count": null,
   "metadata": {
    "ExecuteTime": {
     "end_time": "2022-03-07T15:37:23.372486Z",
     "start_time": "2022-03-07T15:37:15.074731Z"
    },
    "scrolled": true
   },
   "outputs": [],
   "source": [
    "# funkcja input() pobiera dane z terminala\n",
    "# float() zmienia na double\n",
    "x = float(input('Podaj liczbe: '))\n",
    "\n",
    "if x > 0:\n",
    "    print('Liczba %f jest dodatnia', x)"
   ]
  },
  {
   "cell_type": "code",
   "execution_count": null,
   "metadata": {
    "ExecuteTime": {
     "end_time": "2022-03-07T15:37:34.779710Z",
     "start_time": "2022-03-07T15:37:30.172222Z"
    },
    "scrolled": true,
    "slideshow": {
     "slide_type": "slide"
    }
   },
   "outputs": [],
   "source": [
    "x = float(input('Podaj liczbe'))\n",
    "\n",
    "if x >= 0:\n",
    "    print('Liczba %f jest dodatnia' % x)\n",
    "else:\n",
    "    print('Liczba %f jest ujemna' % x)\n",
    "    "
   ]
  },
  {
   "cell_type": "code",
   "execution_count": null,
   "metadata": {
    "scrolled": true,
    "slideshow": {
     "slide_type": "slide"
    }
   },
   "outputs": [],
   "source": [
    "x = 42\n",
    "if x > 5 and x < 10 :\n",
    "    print('x w zakresie od 5 do 10')\n",
    "elif x > 10:\n",
    "    print('x jest większy od 10')\n",
    "else:\n",
    "    print('Nie ok')"
   ]
  },
  {
   "cell_type": "markdown",
   "metadata": {
    "slideshow": {
     "slide_type": "slide"
    }
   },
   "source": [
    "### **Ćwiczenie**\n",
    "\n",
    "Napisz program, który sprawdzi czy podana licza jest parzysata.\n"
   ]
  },
  {
   "cell_type": "code",
   "execution_count": null,
   "metadata": {
    "scrolled": true
   },
   "outputs": [],
   "source": []
  },
  {
   "cell_type": "markdown",
   "metadata": {
    "slideshow": {
     "slide_type": "slide"
    }
   },
   "source": [
    "### Pętle: while, for"
   ]
  },
  {
   "cell_type": "code",
   "execution_count": null,
   "metadata": {
    "ExecuteTime": {
     "end_time": "2022-03-07T15:40:07.825070Z",
     "start_time": "2022-03-07T15:40:07.819895Z"
    },
    "scrolled": true
   },
   "outputs": [],
   "source": [
    "x = 10\n",
    "while x > 0:\n",
    "    x = x -1\n",
    "    print(x)"
   ]
  },
  {
   "cell_type": "code",
   "execution_count": null,
   "metadata": {
    "ExecuteTime": {
     "end_time": "2022-03-07T15:41:43.554498Z",
     "start_time": "2022-03-07T15:41:43.549729Z"
    },
    "scrolled": true
   },
   "outputs": [],
   "source": [
    "for i in ('a', 3.13, 3, 'Ala ma kota'):\n",
    "    print(i)"
   ]
  },
  {
   "cell_type": "code",
   "execution_count": null,
   "metadata": {
    "ExecuteTime": {
     "end_time": "2022-03-07T15:42:19.617057Z",
     "start_time": "2022-03-07T15:42:19.613317Z"
    },
    "scrolled": true
   },
   "outputs": [],
   "source": [
    "for i in range(5):\n",
    "    print(i)"
   ]
  },
  {
   "cell_type": "markdown",
   "metadata": {
    "slideshow": {
     "slide_type": "slide"
    }
   },
   "source": [
    "### **Ćwiczenie**\n",
    "\n",
    "Napisz program, który dla podanej liczby całkowitej $n$ wyznaczy sumę wszystkich liczb całkowitych od 1 do $n$.   \n",
    "\n",
    "Rozwiązanie z użyciem pętli `while` \n",
    "\n",
    "\n"
   ]
  },
  {
   "cell_type": "code",
   "execution_count": null,
   "metadata": {
    "scrolled": true
   },
   "outputs": [],
   "source": [
    "\n",
    "\n",
    "\n",
    "\n",
    "\n"
   ]
  },
  {
   "cell_type": "markdown",
   "metadata": {},
   "source": [
    "Rozwiązania z użyciem pętli `for`"
   ]
  },
  {
   "cell_type": "code",
   "execution_count": null,
   "metadata": {
    "scrolled": true
   },
   "outputs": [],
   "source": [
    "\n",
    "\n",
    "\n",
    "\n",
    "\n"
   ]
  },
  {
   "cell_type": "markdown",
   "metadata": {
    "slideshow": {
     "slide_type": "slide"
    }
   },
   "source": [
    "## Instrukcje brak i continue"
   ]
  },
  {
   "cell_type": "code",
   "execution_count": null,
   "metadata": {
    "ExecuteTime": {
     "end_time": "2022-03-07T15:43:21.652605Z",
     "start_time": "2022-03-07T15:43:21.646509Z"
    },
    "scrolled": true,
    "slideshow": {
     "slide_type": "-"
    }
   },
   "outputs": [],
   "source": [
    "# Instrukcja break przerywa pętlę\n",
    "\n",
    "licznik = 0\n",
    "while True:\n",
    "    print(licznik)\n",
    "    licznik += 1\n",
    "    if licznik >= 5:\n",
    "        break      # przerwanie petli"
   ]
  },
  {
   "cell_type": "code",
   "execution_count": null,
   "metadata": {
    "ExecuteTime": {
     "end_time": "2022-03-07T15:43:41.210606Z",
     "start_time": "2022-03-07T15:43:41.206073Z"
    },
    "scrolled": false
   },
   "outputs": [],
   "source": [
    "#Instrukcja continue wykonuje koleją iterację\n",
    "\n",
    "for x in range(10):   \n",
    "    if x % 2 == 0:\n",
    "        continue   # pominiecie kroku \n",
    "    print(x)"
   ]
  },
  {
   "cell_type": "markdown",
   "metadata": {
    "slideshow": {
     "slide_type": "slide"
    }
   },
   "source": [
    "## Krotki, listy i słowniki"
   ]
  },
  {
   "cell_type": "markdown",
   "metadata": {},
   "source": [
    "**krotka** (tuple) - kolekcja elementów, której nie można modyfikować"
   ]
  },
  {
   "cell_type": "code",
   "execution_count": null,
   "metadata": {
    "ExecuteTime": {
     "end_time": "2022-03-07T15:45:14.913026Z",
     "start_time": "2022-03-07T15:45:14.904844Z"
    },
    "scrolled": true
   },
   "outputs": [],
   "source": [
    "b = ( 1, 'a', 'helo')\n",
    "\n",
    "print('b=', b)\n",
    "\n",
    "print('b[0]=', b[0])    # pierwszy element ma indeks 0\n",
    "\n",
    "for x in b:\n",
    "    print(x)"
   ]
  },
  {
   "cell_type": "markdown",
   "metadata": {
    "slideshow": {
     "slide_type": "slide"
    }
   },
   "source": [
    "### Listy"
   ]
  },
  {
   "cell_type": "code",
   "execution_count": null,
   "metadata": {
    "ExecuteTime": {
     "end_time": "2022-03-07T17:03:19.114481Z",
     "start_time": "2022-03-07T17:03:19.107501Z"
    },
    "scrolled": true,
    "slideshow": {
     "slide_type": "-"
    }
   },
   "outputs": [],
   "source": [
    "# lista (tablica o zmiennym rozmiarze, struktura wektor)\n",
    "\n",
    "a = [1, 2, 3, 5]\n",
    "\n",
    "print('Lista a=', a)\n",
    "print('Element a[0]=', a[0])\n",
    "\n",
    "# iterowanie po elementach listy\n",
    "for i in a:\n",
    "    print(i)\n",
    "    \n",
    "for i, x in enumerate(a):\n",
    "    print(i, x)"
   ]
  },
  {
   "cell_type": "code",
   "execution_count": null,
   "metadata": {
    "ExecuteTime": {
     "end_time": "2022-03-07T17:03:44.162492Z",
     "start_time": "2022-03-07T17:03:44.156907Z"
    },
    "scrolled": true,
    "slideshow": {
     "slide_type": "slide"
    }
   },
   "outputs": [],
   "source": [
    "# operacje na listach\n",
    "a = [ 5, 3, 2, -4, 12]\n",
    "\n",
    "a.reverse()    # odwracanie\n",
    "print(a)\n",
    "\n",
    "a.sort()       # sortowanie\n",
    "print(a)\n",
    "\n",
    "a.append(3)    # dodawanie elementu na końcu\n",
    "print(a)\n",
    "\n",
    "del a[0]      # usuwanie elementu\n",
    "print(a)"
   ]
  },
  {
   "cell_type": "code",
   "execution_count": null,
   "metadata": {
    "ExecuteTime": {
     "end_time": "2022-03-07T17:05:16.834508Z",
     "start_time": "2022-03-07T17:05:16.826461Z"
    },
    "scrolled": true,
    "slideshow": {
     "slide_type": "slide"
    }
   },
   "outputs": [],
   "source": [
    "a = []    # pusta lista\n",
    "\n",
    "print('Zawartosc listy', a)\n",
    "print('Dlugosc listy = ', len(a))\n",
    "\n",
    "for i in range(5):\n",
    "    a.append(i**2)\n",
    "\n",
    "print('Zawartosc listy', a)\n",
    "print('Dlugosc listy = ', len(a))\n",
    "\n",
    "print('Czy zawiera wartość 42 ?', 42 in a)"
   ]
  },
  {
   "cell_type": "code",
   "execution_count": null,
   "metadata": {
    "ExecuteTime": {
     "end_time": "2022-03-07T15:50:16.425306Z",
     "start_time": "2022-03-07T15:50:16.419953Z"
    },
    "scrolled": true,
    "slideshow": {
     "slide_type": "slide"
    }
   },
   "outputs": [],
   "source": [
    "# indeksowanie list\n",
    "a = [ 5, 3, 1,6 ,3]\n",
    "\n",
    "print(a[0])             # pierwszy element\n",
    "print(a[-1])            # ostatni element\n",
    "print(a[1:3])           # element od 1 do 2  (bez elementu 3!)\n",
    "print(a[2:])            # element od 2 do końca"
   ]
  },
  {
   "cell_type": "code",
   "execution_count": null,
   "metadata": {
    "ExecuteTime": {
     "end_time": "2022-03-07T15:49:07.186018Z",
     "start_time": "2022-03-07T15:49:07.179128Z"
    },
    "scrolled": true,
    "slideshow": {
     "slide_type": "slide"
    }
   },
   "outputs": [],
   "source": [
    "# lista zawierająca listy \n",
    "a= [[ 1, 2 ,3 ], [4, 5, 6, 7 ]]\n",
    "\n",
    "print(len(a))\n",
    "print(a[0])                      # pierwszy wiersz\n",
    "print(a[1][2])    "
   ]
  },
  {
   "cell_type": "markdown",
   "metadata": {
    "slideshow": {
     "slide_type": "slide"
    }
   },
   "source": [
    "### Słownik {klucz: wartość}"
   ]
  },
  {
   "cell_type": "code",
   "execution_count": null,
   "metadata": {
    "ExecuteTime": {
     "end_time": "2022-03-07T17:06:58.530814Z",
     "start_time": "2022-03-07T17:06:58.520595Z"
    }
   },
   "outputs": [],
   "source": [
    "# słownik { 'klucz1' : wartość1, 'klucz2': wartość2, ...}\n",
    "s = { 'Ala' : 'ma kota', 'Ewa' : 'ma psa'}\n",
    "\n",
    "print(s['Ala'])    \n",
    "\n",
    "s['Janek']='lubi Pythona'    # nowy element słownika\n",
    "\n",
    "for k in s:\n",
    "    print(k, s[k])\n",
    "    \n",
    "print(s.keys())      # lista kluczy\n",
    "print(s.values())    # lista wartości\n",
    "print(len(s))        # ilośc elementów\n",
    "\n",
    "print('Ala' in s)    # czy klucz 'ala' jest w słowniku?\n",
    "print('Zosia' in s)  # czy 'zosia' jest w słowniku?"
   ]
  },
  {
   "cell_type": "markdown",
   "metadata": {
    "slideshow": {
     "slide_type": "slide"
    }
   },
   "source": [
    "## Funkcje\n",
    "\n",
    "\n",
    "```python\n",
    "def nazwa_funkcji(argumenty):\n",
    "   \n",
    "    return x\n",
    "\n",
    "```"
   ]
  },
  {
   "cell_type": "code",
   "execution_count": null,
   "metadata": {},
   "outputs": [],
   "source": [
    "def suma(a, b, c=1):\n",
    "    \n",
    "    return a+b+c"
   ]
  },
  {
   "cell_type": "code",
   "execution_count": null,
   "metadata": {},
   "outputs": [],
   "source": [
    "x = suma(1,2,3)\n",
    "print(x)"
   ]
  },
  {
   "cell_type": "markdown",
   "metadata": {
    "slideshow": {
     "slide_type": "slide"
    }
   },
   "source": [
    "## Zadanie 1\n",
    "\n",
    "\n",
    "Napisz program, który wyznaczy wspólczynniki $a$ i $b$ funkcji liniowej $f(x) = ax+b$ dopasowanej do danych pomiarowych za pomocą metody najmniejszych kwadratów.\n",
    "\n",
    "|Dane pomiarowe |||||||||||\n",
    "|-|-|-|-|-|-|-|-|-|-|-|\n",
    "| **x** | 8 | 2  | 11 | 6 | 5 | 4 | 12 | 9 | 6 | 1  |\n",
    "| **y**\t| 3 | 10 | 3 | 6 | 8 | 12 | 1  | 4 | 9 | 14 | \n",
    "\n",
    "\n",
    "Dla danych pomiarowych $[x_1, x_2, \\ldots, x_n]$ oraz $[y_1, y_2, \\ldots, y_n]$ wkonaj nastepujące kroki:\n",
    "\n",
    "1. Wyznacz wartości średnie  $$\\bar{x}=\\frac{1}{n}\\sum_{i=1}^n x_i, \\qquad \\bar{y}=\\frac{1}{n}\\sum_{i=1}^n y_i$$\n",
    "1. Wyznacz wsp. nachylenia prostej  $$a = \\frac{\\sum_{i=1}^n\\left(x_i-\\bar{x}\\right)\\left(y_i-\\bar{y}\\right)}{\\sum_{i=1}^n\\left(x_i-\\bar{x}\\right)^2}$$\n",
    "1. Wyznacz wyraz wolny z równania $$b = \\bar{y} - a\\bar{x}$$\n",
    "\n",
    "\n",
    "Rozwiązanie umieść w komórce poniżej. Zapisz notatnik i prześlij go do repozytorium GitHub lub do Moodle pod adres https://moodle.umk.pl/mod/assign/view.php?id=291467\n"
   ]
  },
  {
   "cell_type": "code",
   "execution_count": null,
   "metadata": {
    "ExecuteTime": {
     "end_time": "2022-03-07T16:59:00.618531Z",
     "start_time": "2022-03-07T16:59:00.610340Z"
    }
   },
   "outputs": [],
   "source": [
    "x = [ 8, 2, 11, 6, 5, 4, 12, 9, 6, 1 ]\n",
    "y = [ 3, 10, 3, 6, 8, 12, 1, 4, 9, 14 ] \n",
    "\n",
    "\n",
    "\n",
    "\n",
    "\n",
    "\n",
    "\n",
    "\n",
    "\n"
   ]
  }
 ],
 "metadata": {
  "celltoolbar": "Slideshow",
  "kernelspec": {
   "display_name": "Python 3 (ipykernel)",
   "language": "python",
   "name": "python3"
  },
  "language_info": {
   "codemirror_mode": {
    "name": "ipython",
    "version": 3
   },
   "file_extension": ".py",
   "mimetype": "text/x-python",
   "name": "python",
   "nbconvert_exporter": "python",
   "pygments_lexer": "ipython3",
   "version": "3.9.7"
  },
  "toc": {
   "base_numbering": 1,
   "nav_menu": {},
   "number_sections": true,
   "sideBar": true,
   "skip_h1_title": false,
   "title_cell": "Table of Contents",
   "title_sidebar": "Contents",
   "toc_cell": false,
   "toc_position": {},
   "toc_section_display": true,
   "toc_window_display": false
  },
  "varInspector": {
   "cols": {
    "lenName": 16,
    "lenType": 16,
    "lenVar": 40
   },
   "kernels_config": {
    "python": {
     "delete_cmd_postfix": "",
     "delete_cmd_prefix": "del ",
     "library": "var_list.py",
     "varRefreshCmd": "print(var_dic_list())"
    },
    "r": {
     "delete_cmd_postfix": ") ",
     "delete_cmd_prefix": "rm(",
     "library": "var_list.r",
     "varRefreshCmd": "cat(var_dic_list()) "
    }
   },
   "types_to_exclude": [
    "module",
    "function",
    "builtin_function_or_method",
    "instance",
    "_Feature"
   ],
   "window_display": false
  }
 },
 "nbformat": 4,
 "nbformat_minor": 4
}
